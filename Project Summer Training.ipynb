{
 "cells": [
  {
   "cell_type": "code",
   "execution_count": 1,
   "metadata": {},
   "outputs": [],
   "source": [
    "from sklearn.datasets import fetch_openml\n",
    "import numpy as np\n",
    "import matplotlib.pyplot as plt\n",
    "import pandas as pd"
   ]
  },
  {
   "cell_type": "code",
   "execution_count": 2,
   "metadata": {},
   "outputs": [],
   "source": [
    "X, y = fetch_openml('mnist_784', return_X_y=True)"
   ]
  },
  {
   "cell_type": "code",
   "execution_count": 3,
   "metadata": {},
   "outputs": [
    {
     "data": {
      "text/plain": [
       "(70000, 784)"
      ]
     },
     "execution_count": 3,
     "metadata": {},
     "output_type": "execute_result"
    }
   ],
   "source": [
    "X.shape"
   ]
  },
  {
   "cell_type": "code",
   "execution_count": 4,
   "metadata": {},
   "outputs": [
    {
     "data": {
      "text/plain": [
       "1    7877\n",
       "7    7293\n",
       "3    7141\n",
       "2    6990\n",
       "9    6958\n",
       "0    6903\n",
       "6    6876\n",
       "8    6825\n",
       "4    6824\n",
       "5    6313\n",
       "dtype: int64"
      ]
     },
     "execution_count": 4,
     "metadata": {},
     "output_type": "execute_result"
    }
   ],
   "source": [
    "pd.Series(y).value_counts()"
   ]
  },
  {
   "cell_type": "code",
   "execution_count": 5,
   "metadata": {},
   "outputs": [
    {
     "data": {
      "text/plain": [
       "array(['5', '0', '4', ..., '4', '5', '6'], dtype=object)"
      ]
     },
     "execution_count": 5,
     "metadata": {},
     "output_type": "execute_result"
    }
   ],
   "source": [
    "y"
   ]
  },
  {
   "cell_type": "code",
   "execution_count": 6,
   "metadata": {},
   "outputs": [],
   "source": [
    "X_scale = X/255.0"
   ]
  },
  {
   "cell_type": "code",
   "execution_count": 7,
   "metadata": {},
   "outputs": [
    {
     "data": {
      "text/plain": [
       "1.0"
      ]
     },
     "execution_count": 7,
     "metadata": {},
     "output_type": "execute_result"
    }
   ],
   "source": [
    "X_scale.max()"
   ]
  },
  {
   "cell_type": "code",
   "execution_count": 15,
   "metadata": {},
   "outputs": [],
   "source": [
    "from sklearn.model_selection import train_test_split\n",
    "xtrain,xtest,ytrain,ytest = train_test_split(X_scale,y,test_size=8000,random_state=10)"
   ]
  },
  {
   "cell_type": "code",
   "execution_count": 16,
   "metadata": {},
   "outputs": [],
   "source": [
    "from sklearn.decomposition import PCA\n",
    "from sklearn.linear_model import LogisticRegression\n",
    "import warnings\n",
    "warnings.filterwarnings('ignore')"
   ]
  },
  {
   "cell_type": "code",
   "execution_count": 17,
   "metadata": {},
   "outputs": [],
   "source": [
    "pca = PCA(.96)\n",
    "train_pca = pca.fit_transform(xtrain)\n",
    "test_pca = pca.transform(xtest)"
   ]
  },
  {
   "cell_type": "code",
   "execution_count": 18,
   "metadata": {},
   "outputs": [
    {
     "data": {
      "text/plain": [
       "(62000, 179)"
      ]
     },
     "execution_count": 18,
     "metadata": {},
     "output_type": "execute_result"
    }
   ],
   "source": [
    "train_pca.shape"
   ]
  },
  {
   "cell_type": "code",
   "execution_count": 19,
   "metadata": {},
   "outputs": [
    {
     "data": {
      "text/plain": [
       "LogisticRegression(C=10, class_weight=None, dual=False, fit_intercept=True,\n",
       "          intercept_scaling=1, max_iter=100, multi_class='warn',\n",
       "          n_jobs=None, penalty='l2', random_state=None, solver='warn',\n",
       "          tol=0.0001, verbose=0, warm_start=False)"
      ]
     },
     "execution_count": 19,
     "metadata": {},
     "output_type": "execute_result"
    }
   ],
   "source": [
    "log = LogisticRegression(C=10)\n",
    "log.fit(train_pca,ytrain)"
   ]
  },
  {
   "cell_type": "code",
   "execution_count": 20,
   "metadata": {},
   "outputs": [
    {
     "name": "stdout",
     "output_type": "stream",
     "text": [
      "train score: 0.9200322580645162\n"
     ]
    }
   ],
   "source": [
    "print('train score:',log.score(train_pca,ytrain))"
   ]
  },
  {
   "cell_type": "code",
   "execution_count": 21,
   "metadata": {},
   "outputs": [],
   "source": [
    "from joblib import dump, load"
   ]
  },
  {
   "cell_type": "code",
   "execution_count": 22,
   "metadata": {},
   "outputs": [
    {
     "data": {
      "text/plain": [
       "['ProjectHandWritten.joblib']"
      ]
     },
     "execution_count": 22,
     "metadata": {},
     "output_type": "execute_result"
    }
   ],
   "source": [
    "dump(log, 'ProjectHandWritten.joblib') "
   ]
  },
  {
   "cell_type": "code",
   "execution_count": 23,
   "metadata": {},
   "outputs": [
    {
     "data": {
      "text/plain": [
       "['HandWrittenpca.joblib']"
      ]
     },
     "execution_count": 23,
     "metadata": {},
     "output_type": "execute_result"
    }
   ],
   "source": [
    "dump(pca,'HandWrittenpca.joblib')"
   ]
  },
  {
   "cell_type": "code",
   "execution_count": 24,
   "metadata": {},
   "outputs": [],
   "source": [
    "clf = load('ProjectHandWritten.joblib') "
   ]
  },
  {
   "cell_type": "code",
   "execution_count": 25,
   "metadata": {},
   "outputs": [
    {
     "data": {
      "text/plain": [
       "0.914375"
      ]
     },
     "execution_count": 25,
     "metadata": {},
     "output_type": "execute_result"
    }
   ],
   "source": [
    "clf.score(test_pca,ytest)"
   ]
  },
  {
   "cell_type": "code",
   "execution_count": 26,
   "metadata": {},
   "outputs": [],
   "source": [
    "pca1 = load('HandWrittenpca.joblib')"
   ]
  },
  {
   "cell_type": "code",
   "execution_count": 27,
   "metadata": {},
   "outputs": [
    {
     "data": {
      "text/plain": [
       "179"
      ]
     },
     "execution_count": 27,
     "metadata": {},
     "output_type": "execute_result"
    }
   ],
   "source": [
    "pca1.n_components_"
   ]
  },
  {
   "cell_type": "code",
   "execution_count": null,
   "metadata": {},
   "outputs": [],
   "source": [
    "import tkinter as tk\n",
    "from tkinter import *\n",
    "from PIL import Image,ImageDraw\n",
    "import matplotlib.pyplot as plt\n",
    "import cv2\n",
    "import numpy as np\n",
    "global d\n",
    "class ImageGenerator:\n",
    "    def __init__(self,parent,posx,posy,*kwargs):\n",
    "        self.parent = parent\n",
    "        self.posx = posx\n",
    "        self.posy = posy\n",
    "        self.sizex = 400\n",
    "        self.sizey = 300\n",
    "        \n",
    "        self.old_x=None\n",
    "        self.old_y=None\n",
    "        \n",
    "       \n",
    "        tk.Label(self.parent,text=\"Predicting Hand-Written Digits\",fg=\"green\",font=(\"\",15,\"bold\")).place(x=50,y=10)\n",
    "        \n",
    "        self.drawing_area=tk.Canvas(self.parent,width=self.sizex,height=self.sizey)\n",
    "        self.drawing_area.place(x=self.posx,y=self.posy)\n",
    "        \n",
    "        self.drawing_area.bind(\"<B1-Motion>\", self.paint)\n",
    "        self.drawing_area.bind(\"<ButtonRelease-1>\", self.reset)\n",
    "        \n",
    "        self.button=tk.Button(self.parent,text=\"Save Image\",width=10,bg='white',command=self.save)\n",
    "        self.button.place(x=self.sizex/5,y=self.sizey+75)\n",
    "        \n",
    "        self.button1=tk.Button(self.parent,text=\"Clear\",width=10,bg='white',command=self.clear)\n",
    "        self.button1.place(x=(self.sizex/5)+80,y=self.sizey+75)\n",
    "        \n",
    "        self.button2=tk.Button(self.parent,text=\"Predict\",width=10,bg='white',command=self.predict)\n",
    "        self.button2.place(x=(self.sizex/5)+160,y=self.sizey+75)\n",
    "        \n",
    "       \n",
    "        \n",
    "        self.image=Image.new(\"RGB\",(400,300),(255,255,255))\n",
    "        self.draw=ImageDraw.Draw(self.image)\n",
    "\n",
    "    def save(self):\n",
    "        filename = \"temp.jpg\"\n",
    "        self.image.save(filename)\n",
    "\n",
    "    def clear(self):\n",
    "        self.drawing_area.delete(\"all\")\n",
    "        self.image=Image.new(\"RGB\",(400,300),(255,255,255))\n",
    "        self.draw=ImageDraw.Draw(self.image)\n",
    "\n",
    "    \n",
    "    \n",
    "    def paint(self, event):\n",
    "        self.line_width = 10\n",
    "        paint_color = 'black'\n",
    "        if self.old_x and self.old_y:\n",
    "            self.drawing_area.create_line(self.old_x, self.old_y, event.x, event.y,\n",
    "                               width=self.line_width, fill=paint_color)\n",
    "            self.draw.line(((self.old_x,self.old_y),(event.x,event.y)),(0,0,0),width=10)\n",
    "        self.old_x = event.x\n",
    "        self.old_y = event.y\n",
    "        \n",
    "    def reset(self, event):\n",
    "        #self.c.delete(\"all\")\n",
    "        self.old_x, self.old_y = None, None\n",
    "        \n",
    "    \n",
    "        \n",
    "    def predict(self):      \n",
    "        img =cv2.imread('temp.jpg')            \n",
    "        gray_img = cv2.cvtColor(img,cv2.COLOR_BGR2GRAY)\n",
    "        blur = cv2.GaussianBlur(gray_img,(7,7),0)\n",
    "        ret,th_img = cv2.threshold(blur, 110, 255, cv2.THRESH_BINARY_INV)\n",
    "        ctrs, hier = cv2.findContours(th_img, cv2.RETR_EXTERNAL, cv2.THRESH_BINARY_INV)\n",
    "        \n",
    "        for contour in ctrs:\n",
    "            [x,y,w,h] = cv2.boundingRect(contour)\n",
    "            roi = gray_img[y-12:y+(h+12),x-12:x+(w+12)]\n",
    "            roi = np.invert(roi)\n",
    "            roi = cv2.resize(roi, (28, 28))\n",
    "            arr = np.array(roi).astype(float)/255\n",
    "            arr = arr.reshape(1,-1)\n",
    "            test = pca.transform(arr)\n",
    "            re=  clf.predict(test)\n",
    "            cv2.putText(img, str(re[0]), (x-8,y-8),cv2.FONT_HERSHEY_DUPLEX, 2, (255, 0, 255), 3)\n",
    "        \n",
    "        cv2.imshow('final',img)\n",
    "        cv2.waitKey(0)\n",
    "        cv2.destroyAllWindows()\n",
    "                        \n",
    "\n",
    "if __name__ == \"__main__\":\n",
    "    root=tk.Tk()\n",
    "    root.wm_geometry(\"%dx%d+%d+%d\" % (550, 450, 10, 10))\n",
    "    root.config(bg='white')\n",
    "    ImageGenerator(root,60,60)\n",
    "    root.mainloop()\n"
   ]
  },
  {
   "cell_type": "code",
   "execution_count": null,
   "metadata": {},
   "outputs": [],
   "source": []
  },
  {
   "cell_type": "code",
   "execution_count": null,
   "metadata": {},
   "outputs": [],
   "source": []
  }
 ],
 "metadata": {
  "kernelspec": {
   "display_name": "Python 3",
   "language": "python",
   "name": "python3"
  },
  "language_info": {
   "codemirror_mode": {
    "name": "ipython",
    "version": 3
   },
   "file_extension": ".py",
   "mimetype": "text/x-python",
   "name": "python",
   "nbconvert_exporter": "python",
   "pygments_lexer": "ipython3",
   "version": "3.7.3"
  }
 },
 "nbformat": 4,
 "nbformat_minor": 2
}
